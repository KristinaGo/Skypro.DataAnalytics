{
 "cells": [
  {
   "cell_type": "markdown",
   "id": "a747695e",
   "metadata": {
    "id": "a747695e"
   },
   "source": [
    "# Домашнее задание Python-3. Работа с циклами и словарями"
   ]
  },
  {
   "cell_type": "markdown",
   "id": "f0bebffd",
   "metadata": {
    "id": "f0bebffd"
   },
   "source": [
    "### Задание 1. Поупражняемся со списками"
   ]
  },
  {
   "cell_type": "code",
   "execution_count": 1,
   "id": "46054526",
   "metadata": {
    "executionInfo": {
     "elapsed": 920,
     "status": "ok",
     "timestamp": 1670065598248,
     "user": {
      "displayName": "Кристина Гончарова",
      "userId": "00992518206153406538"
     },
     "user_tz": -180
    },
    "id": "46054526"
   },
   "outputs": [],
   "source": [
    "##### Будем работать с листом lst\n",
    "\n",
    "lst = [0, 1, 1, 2, 3, 5, 8, 13, 21, 34, 55, 89, 144, 233, 377, 610, 987, 1597, 2584, 4181, 6765]"
   ]
  },
  {
   "cell_type": "code",
   "execution_count": 2,
   "id": "95541898",
   "metadata": {
    "id": "95541898",
    "outputId": "3eb20683-d570-4c54-867c-267b0b6c3698"
   },
   "outputs": [
    {
     "name": "stdout",
     "output_type": "stream",
     "text": [
      "17710\n"
     ]
    }
   ],
   "source": [
    "##############################################   Задание 1.1   #################################################################\n",
    "\n",
    "### Напишите скрипт, который суvмирует все значения в списке lst. Используйте функцию суммы\n",
    "lst_sum = sum(lst)\n",
    "print(lst_sum)"
   ]
  },
  {
   "cell_type": "code",
   "execution_count": 3,
   "id": "aac77be3",
   "metadata": {
    "colab": {
     "base_uri": "https://localhost:8080/"
    },
    "executionInfo": {
     "elapsed": 929,
     "status": "ok",
     "timestamp": 1670065602575,
     "user": {
      "displayName": "Кристина Гончарова",
      "userId": "00992518206153406538"
     },
     "user_tz": -180
    },
    "id": "aac77be3",
    "outputId": "e3f44641-2218-4d22-8ba8-49b6269af023"
   },
   "outputs": [
    {
     "name": "stdout",
     "output_type": "stream",
     "text": [
      "17710\n"
     ]
    }
   ],
   "source": [
    "##############################################   Задание 1.2   #################################################################\n",
    "\n",
    "### Напишите скрипт, который сумvирует все значения в списке lst. Используйте цикл\n",
    "k = 0\n",
    "for i in lst:\n",
    "    k += i\n",
    "print(k)\n",
    "    "
   ]
  },
  {
   "cell_type": "code",
   "execution_count": 4,
   "id": "f88d025b",
   "metadata": {
    "id": "f88d025b",
    "outputId": "a7127535-3762-48c1-c262-c8d455b36969"
   },
   "outputs": [
    {
     "name": "stdout",
     "output_type": "stream",
     "text": [
      "9692987370815489224102512784450560000\n"
     ]
    }
   ],
   "source": [
    "##############################################   Задание 1.3   #################################################################\n",
    "\n",
    "### Напишите скрипт, который перемножает все значения в списке lst. Используйте цикл\n",
    "new_lst = lst[1:]\n",
    "val = 1\n",
    "for i in new_lst:\n",
    "    val *= i\n",
    "print(val)\n"
   ]
  },
  {
   "cell_type": "code",
   "execution_count": 5,
   "id": "0f8d9856",
   "metadata": {
    "id": "0f8d9856",
    "outputId": "65bdc1b5-a3ca-4d20-95c9-54e706e7d8aa"
   },
   "outputs": [
    {
     "name": "stdout",
     "output_type": "stream",
     "text": [
      "Самое большее значение в списке lst - 6765\n"
     ]
    }
   ],
   "source": [
    "##############################################   Задание 1.4   #################################################################\n",
    "\n",
    "### Напишите скрипт, который выведет самое большое значения в списке lst. Используйте функцию максимум\n",
    "max_number = max(lst)\n",
    "print('Самое большее значение в списке lst -', max_number)"
   ]
  },
  {
   "cell_type": "code",
   "execution_count": 6,
   "id": "81e766db",
   "metadata": {
    "id": "81e766db",
    "outputId": "fb86fb09-51fe-4b84-81a7-d36e18ffd9cb"
   },
   "outputs": [
    {
     "name": "stdout",
     "output_type": "stream",
     "text": [
      "6765\n"
     ]
    }
   ],
   "source": [
    "##############################################   Задание 1.5   #################################################################\n",
    "\n",
    "### Напишите скрипт, который выведет самое большое значения в списке lst. Используйте цикл\n",
    "nbz= 0\n",
    "for i in lst:\n",
    "    if i > nbz:\n",
    "        nbz = i\n",
    "print(nbz)"
   ]
  },
  {
   "cell_type": "code",
   "execution_count": 7,
   "id": "e3558ae1",
   "metadata": {
    "id": "e3558ae1",
    "outputId": "324bf1af-0844-4d34-d56a-b71313c93592"
   },
   "outputs": [
    {
     "name": "stdout",
     "output_type": "stream",
     "text": [
      "Самое маленькое значение в списке lst - 0\n"
     ]
    }
   ],
   "source": [
    "##############################################   Задание 1.6   #################################################################\n",
    "\n",
    "### Напишите скрипт, который выведет самое маленькое значения в списке lst. Используйте функцию минимум\n",
    "min_number = min(lst)\n",
    "print('Самое маленькое значение в списке lst -', min_number)"
   ]
  },
  {
   "cell_type": "code",
   "execution_count": 8,
   "id": "5201c583",
   "metadata": {
    "id": "5201c583",
    "outputId": "eaba75ee-5099-4633-8ec7-f30b630cc2a3"
   },
   "outputs": [
    {
     "name": "stdout",
     "output_type": "stream",
     "text": [
      "0\n"
     ]
    }
   ],
   "source": [
    "##############################################   Задание 1.7   #################################################################\n",
    "\n",
    "### Напишите скрипт, который выведет самое маленькое значения в списке lst. Используйте цикл\n",
    "nmz= 0\n",
    "for i in lst:\n",
    "    if i < nmz:\n",
    "        nmz = i\n",
    "print(nmz)"
   ]
  },
  {
   "cell_type": "code",
   "execution_count": 9,
   "id": "9719cc73",
   "metadata": {
    "id": "9719cc73",
    "outputId": "bb1155e5-9d5f-4a00-f2e0-9286ab6c6dd8"
   },
   "outputs": [
    {
     "name": "stdout",
     "output_type": "stream",
     "text": [
      "Количество элементов списка, удовлетворяющих заданному условию: 4\n"
     ]
    }
   ],
   "source": [
    "##############################################   Задание 1.8   #################################################################\n",
    "\n",
    "### Напишите скрипт, который выведет количество элементов в списке lst, которые превышают 1500 (строго). Используйте цикл for\n",
    "counter = 0\n",
    "for i in lst:\n",
    "    if i > 1500:\n",
    "        counter += 1\n",
    "print(\"Количество элементов списка, удовлетворяющих заданному условию:\", counter)\n",
    "\n"
   ]
  },
  {
   "cell_type": "code",
   "execution_count": 10,
   "id": "d60adf58",
   "metadata": {
    "id": "d60adf58",
    "outputId": "bed201c7-3f95-4afe-96c6-4c596d7b6a62"
   },
   "outputs": [
    {
     "name": "stdout",
     "output_type": "stream",
     "text": [
      "False\n"
     ]
    }
   ],
   "source": [
    "##############################################   Задание 1.9   #################################################################\n",
    "\n",
    "###  Напишите скрипт, который возвращает True если список lst пустой, и False если он не пустой. \n",
    "###  Используйте функцию длины и логические условия\n",
    "if len(lst):\n",
    "    print(False)\n",
    "else :\n",
    "    print(True)\n",
    "    "
   ]
  },
  {
   "cell_type": "code",
   "execution_count": 11,
   "id": "1e952b4f",
   "metadata": {
    "id": "1e952b4f",
    "outputId": "9912e746-1955-48c2-99a4-68da24248542"
   },
   "outputs": [
    {
     "name": "stdout",
     "output_type": "stream",
     "text": [
      "1597 2584 4181 6765 "
     ]
    }
   ],
   "source": [
    "#############################################   Задание 1.10   #################################################################\n",
    "\n",
    "### Напишите скрипт, который выводит только только те элементы lst, которые больше тысячи (не строго).\n",
    "### Используйте цикл.\n",
    "\n",
    "for i in lst:\n",
    "    if i >= 1000:\n",
    "        print(i, end = \" \")\n",
    "       \n"
   ]
  },
  {
   "cell_type": "code",
   "execution_count": 12,
   "id": "22d33cfc",
   "metadata": {
    "id": "22d33cfc",
    "outputId": "3a82965c-e96c-4a0d-b39c-f50ab81594a4",
    "scrolled": false
   },
   "outputs": [
    {
     "name": "stdout",
     "output_type": "stream",
     "text": [
      "1 1 3 5 13 21 55 89 233 377 987 1597 4181 6765 "
     ]
    }
   ],
   "source": [
    "##############################################   Задание 1.11   ################################################################\n",
    "\n",
    "### Напишите скрипт, который выводит только только те элементы lst, которые являютяс нечетными числами.\n",
    "### Используйте цикл.\n",
    "\n",
    "for i in lst:\n",
    "    if i % 2 != 0:\n",
    "    \n",
    "        print(i, end = \" \")"
   ]
  },
  {
   "cell_type": "code",
   "execution_count": 13,
   "id": "285421de",
   "metadata": {
    "executionInfo": {
     "elapsed": 324,
     "status": "ok",
     "timestamp": 1670065638682,
     "user": {
      "displayName": "Кристина Гончарова",
      "userId": "00992518206153406538"
     },
     "user_tz": -180
    },
    "id": "285421de"
   },
   "outputs": [],
   "source": [
    "nested_list = [['Михаил', 13, 'Spb', False], ['Михаил', 'Шагане', 'Дмитрий', 'Мария'],12, (56, '44'), True]\n"
   ]
  },
  {
   "cell_type": "markdown",
   "id": "63eadcd6",
   "metadata": {
    "id": "63eadcd6"
   },
   "source": [
    "### Задание 2. Поупражняемся со списками посложнее"
   ]
  },
  {
   "cell_type": "code",
   "execution_count": 14,
   "id": "2a53036a",
   "metadata": {
    "id": "2a53036a",
    "outputId": "2e3a1ef0-feb2-485e-bcf7-d6cc5d52d32e"
   },
   "outputs": [
    {
     "name": "stdout",
     "output_type": "stream",
     "text": [
      "Михаил   <class 'str'>\n",
      "13   <class 'int'>\n",
      "Spb   <class 'str'>\n",
      "False   <class 'bool'>\n",
      "Михаил   <class 'str'>\n",
      "Шагане   <class 'str'>\n",
      "Дмитрий   <class 'str'>\n",
      "Мария   <class 'str'>\n",
      "12   <class 'int'>\n",
      "56   <class 'int'>\n",
      "44   <class 'str'>\n",
      "True   <class 'bool'>\n"
     ]
    }
   ],
   "source": [
    "##############################################   Задание 2.1   #################################################################\n",
    "\n",
    "### Напишите скрипт, который возвращает типы данных для каждого элемента внутри списка nested_list\n",
    "#for item in nested_list:\n",
    "   # print(isinstance(item, (int, float)))\n",
    "print(nested_list[0][0], ' ', type(nested_list[0][0])) \n",
    "print(nested_list[0][1], ' ', type(nested_list[0][1])) \n",
    "print(nested_list[0][2], ' ', type(nested_list[0][2])) \n",
    "print(nested_list[0][3], ' ', type(nested_list[0][3])) \n",
    "\n",
    "print(nested_list[1][0], ' ', type(nested_list[1][0])) \n",
    "print(nested_list[1][1], ' ', type(nested_list[1][1]))\n",
    "print(nested_list[1][2], ' ', type(nested_list[1][2]))\n",
    "print(nested_list[1][3], ' ', type(nested_list[1][3]))\n",
    "\n",
    "print(nested_list[2], ' ', type(nested_list[2]))\n",
    "\n",
    "print(nested_list[3][0], ' ', type(nested_list[3][0]))\n",
    "print(nested_list[3][1], ' ', type(nested_list[3][1]))\n",
    "\n",
    "print(nested_list[4], ' ', type(nested_list[4]))"
   ]
  },
  {
   "cell_type": "code",
   "execution_count": 15,
   "id": "cb5241f9",
   "metadata": {
    "id": "cb5241f9",
    "outputId": "f3fc92c3-769a-4038-f523-1cdcb5132d70"
   },
   "outputs": [
    {
     "name": "stdout",
     "output_type": "stream",
     "text": [
      "(0, ['Михаил', 13, 'Spb', False])\n",
      "(1, ['Михаил', 'Шагане', 'Дмитрий', 'Мария'])\n",
      "(2, 12)\n",
      "(3, (56, '44'))\n",
      "(4, True)\n"
     ]
    }
   ],
   "source": [
    "##############################################   Задание 2.2   #################################################################\n",
    "\n",
    "### Напишите скрипт, который перебирает элементы списка nested_list и возвращает:\n",
    "###  1. порядковый номер элемента\n",
    "#i = 0\n",
    "#while i<len(nested_list):\n",
    "  #  print(nested_list[i])\n",
    "   # i +=1\n",
    "#for i in range(len(nested_list)):\n",
    "#    print(nested_list[i])\n",
    "#for i in enumerate(nested_list):\n",
    "#    print(i[0])\n",
    "\n",
    "###  2. значение элемента\n",
    "#print(range(len(nested_list)))\n",
    "###  Используйте цикл и функцию range\n",
    "\n",
    "for i in enumerate(nested_list):\n",
    "    print(i)\n",
    "    \n"
   ]
  },
  {
   "cell_type": "code",
   "execution_count": 17,
   "id": "e7981311",
   "metadata": {
    "colab": {
     "base_uri": "https://localhost:8080/"
    },
    "executionInfo": {
     "elapsed": 407,
     "status": "ok",
     "timestamp": 1670066318526,
     "user": {
      "displayName": "Кристина Гончарова",
      "userId": "00992518206153406538"
     },
     "user_tz": -180
    },
    "id": "e7981311",
    "outputId": "60521aea-179e-4d18-b491-4fc5d4253f73"
   },
   "outputs": [
    {
     "name": "stdout",
     "output_type": "stream",
     "text": [
      "Михаил|13|Spb|False|Михаил|Шагане|Дмитрий|Мария|12|(56, '44')|True|"
     ]
    }
   ],
   "source": [
    "##############################################   Задание 2.3   #################################################################\n",
    "\n",
    "### Напишите скрипт, который перебирает элементы списка nested_list.\n",
    "### Если элемент внутри списка также является списком - то скрипт должен перебрать и его элементы.\n",
    "### Вам необходимо построить цикл, внутри него условие, и внутри условия еще один цикл.\n",
    "\n",
    "\n",
    "for i in nested_list:\n",
    "    if type(i) != list:\n",
    "        print(i, end = '|' )\n",
    "    else:\n",
    "        for j in i:\n",
    "            print(j, end = '|')\n",
    "\n",
    "        "
   ]
  },
  {
   "cell_type": "markdown",
   "id": "707b7dd8",
   "metadata": {
    "id": "707b7dd8"
   },
   "source": [
    "### Задание 3. Поупражняемся со словарями"
   ]
  },
  {
   "cell_type": "code",
   "execution_count": 18,
   "id": "0443838e",
   "metadata": {
    "id": "0443838e"
   },
   "outputs": [],
   "source": [
    "employees_0 = {'Bob':'Dev','Albert':'Manager','Victor':'Analyst','Anna':'Analyst'}"
   ]
  },
  {
   "cell_type": "code",
   "execution_count": 19,
   "id": "08615d69",
   "metadata": {
    "id": "08615d69",
    "outputId": "fd4e9135-df64-41f6-f234-93d349553f2f"
   },
   "outputs": [
    {
     "name": "stdout",
     "output_type": "stream",
     "text": [
      "Bob\n",
      "Victor\n",
      "Anna\n"
     ]
    }
   ],
   "source": [
    "##############################################   Задание 3.1   #################################################################\n",
    "\n",
    "### Выведите имена всех сотрудников, кто не является менеджером. Используйте цикл for с условием внутри.\n",
    "\n",
    "#for name, job in employees_0.items():\n",
    "#    print(\"Сотрудник {} это {}\".format(name, job))\n",
    "\n",
    "#employees_0.items()\n",
    "\n",
    "\n",
    "for k, v in employees_0.items():\n",
    "    if v != 'Manager':\n",
    "        print(k)\n",
    "    \n"
   ]
  },
  {
   "cell_type": "code",
   "execution_count": 20,
   "id": "38da0f6c",
   "metadata": {
    "id": "38da0f6c",
    "outputId": "16950c4e-be3d-43ac-8665-927ff6ad0c8a"
   },
   "outputs": [
    {
     "name": "stdout",
     "output_type": "stream",
     "text": [
      "Количество аналитиков 2\n",
      "Количество других сотрудников 2\n"
     ]
    }
   ],
   "source": [
    "##############################################   Задание 3.2   #################################################################\n",
    "\n",
    "### Посчитайте количество сотрудников-аналитиков. Используйте цикл for с условием внутри.\n",
    "prof1 = 0\n",
    "prof2 = 0\n",
    "for name, prof in employees_0.items():\n",
    "    if prof == 'Analyst':\n",
    "        prof1 += 1\n",
    "    else :\n",
    "        prof2 += 1\n",
    "    \n",
    "print('Количество аналитиков', prof1)\n",
    "print('Количество других сотрудников', prof2)"
   ]
  },
  {
   "cell_type": "code",
   "execution_count": 21,
   "id": "fc64e969",
   "metadata": {
    "id": "fc64e969",
    "outputId": "068ef851-acbd-400f-c324-e2baf06113e2"
   },
   "outputs": [
    {
     "name": "stdout",
     "output_type": "stream",
     "text": [
      "Bob Dev\n",
      "Victor Analyst\n",
      "Anna Analyst\n"
     ]
    }
   ],
   "source": [
    "##############################################   Задание 3.3   #################################################################\n",
    "\n",
    "### Посчитайте количество сотрудников, которые или являются аналитиками, или их зовут Боб. \n",
    "### Используйте цикл for с условием внутри.\n",
    "\n",
    "for k, v in employees_0.items():\n",
    "    if v == 'Analyst' or k == 'Bob':\n",
    "        print(k,v)\n",
    "    \n"
   ]
  },
  {
   "cell_type": "code",
   "execution_count": 22,
   "id": "bc724320",
   "metadata": {
    "id": "bc724320",
    "outputId": "b0c00168-6a60-488c-d50e-cbba8a2a7ed9"
   },
   "outputs": [
    {
     "data": {
      "text/plain": [
       "'Dev'"
      ]
     },
     "execution_count": 22,
     "metadata": {},
     "output_type": "execute_result"
    }
   ],
   "source": [
    "##############################################   Задание 3.4   #################################################################\n",
    "\n",
    "##### Изменим немного структуру словаря\n",
    "\n",
    "employees_1 = {'name':['Bob','Albert','Victor', 'Anna'], 'job':['Dev','Manager','Analyst','Analyst']}\n",
    "\n",
    "### Выведите профессию первого сотрудника в словаре\n",
    "\n",
    "#def search(employees_1, lookup):\n",
    "#    for key, value in employees_1.items():\n",
    "#        for v in value:\n",
    "#            if lookup in v:\n",
    "#                return key\n",
    "#search(employees_1, 'Dev')\n",
    "\n",
    "employees_1['job'][0]"
   ]
  },
  {
   "cell_type": "code",
   "execution_count": 23,
   "id": "2f22beb3",
   "metadata": {
    "id": "2f22beb3",
    "outputId": "75538fda-75c4-4e93-d0ef-5d6ca41be026"
   },
   "outputs": [
    {
     "data": {
      "text/plain": [
       "4"
      ]
     },
     "execution_count": 23,
     "metadata": {},
     "output_type": "execute_result"
    }
   ],
   "source": [
    "##############################################   Задание 3.5   #################################################################\n",
    "\n",
    "### Выведите количество сотрудников в словаре\n",
    "#count = 0\n",
    "\n",
    "#for k, v in employees_1.items():\n",
    "\n",
    "#    if isinstance(v, list):\n",
    "\n",
    "#        count += len(v)\n",
    "#print(count)\n",
    "\n",
    "len(employees_1['name'])\n",
    "    "
   ]
  },
  {
   "cell_type": "code",
   "execution_count": 24,
   "id": "64aef281",
   "metadata": {
    "id": "64aef281",
    "outputId": "65fe3211-0c20-4c24-f8f8-64858d1dc19f"
   },
   "outputs": [
    {
     "name": "stdout",
     "output_type": "stream",
     "text": [
      "Количество сотрудников-аналитиков: 2\n"
     ]
    }
   ],
   "source": [
    "##############################################   Задание 3.6   #################################################################\n",
    "\n",
    "### Выведите количество сотрудников-аналитиков в словаре. Используйте цикл с условием.\n",
    "prof1 = 0\n",
    "for name, prof in employees_0.items():\n",
    "    if prof == 'Analyst':\n",
    "        prof1 += 1\n",
    "        \n",
    "print('Количество сотрудников-аналитиков:', prof1)\n"
   ]
  },
  {
   "cell_type": "code",
   "execution_count": 25,
   "id": "042141b6",
   "metadata": {
    "id": "042141b6",
    "outputId": "9d7fd5bf-9864-4951-ef3b-639a0d350d5a"
   },
   "outputs": [
    {
     "data": {
      "text/plain": [
       "dict_items([('name', ['Bob', 'Albert', 'Victor', 'Anna']), ('job', ['Dev', 'Manager', 'Analyst', 'Analyst'])])"
      ]
     },
     "execution_count": 25,
     "metadata": {},
     "output_type": "execute_result"
    }
   ],
   "source": [
    "employees_1.items()"
   ]
  },
  {
   "cell_type": "markdown",
   "id": "59bb4abc",
   "metadata": {
    "id": "59bb4abc"
   },
   "source": [
    "## 🎉🎉🎉 Поздравляем, вы великолепны! "
   ]
  },
  {
   "cell_type": "code",
   "execution_count": null,
   "id": "865b5156",
   "metadata": {
    "id": "865b5156"
   },
   "outputs": [],
   "source": []
  }
 ],
 "metadata": {
  "colab": {
   "provenance": []
  },
  "kernelspec": {
   "display_name": "Python 3 (ipykernel)",
   "language": "python",
   "name": "python3"
  },
  "language_info": {
   "codemirror_mode": {
    "name": "ipython",
    "version": 3
   },
   "file_extension": ".py",
   "mimetype": "text/x-python",
   "name": "python",
   "nbconvert_exporter": "python",
   "pygments_lexer": "ipython3",
   "version": "3.9.12"
  }
 },
 "nbformat": 4,
 "nbformat_minor": 5
}
