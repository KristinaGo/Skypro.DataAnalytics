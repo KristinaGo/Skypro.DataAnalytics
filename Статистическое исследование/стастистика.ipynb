{
 "cells": [
  {
   "cell_type": "code",
   "execution_count": 51,
   "id": "a7fbd458",
   "metadata": {},
   "outputs": [],
   "source": [
    "import pandas as pd\n",
    "import numpy as np\n",
    "import seaborn as sns\n",
    "from matplotlib import pyplot as plt\n",
    "from scipy import stats as st"
   ]
  },
  {
   "cell_type": "code",
   "execution_count": 50,
   "id": "06553e03",
   "metadata": {},
   "outputs": [],
   "source": [
    "df = pd.read_csv('Данные для дз5 Корреляции.csv',  sep=';')"
   ]
  },
  {
   "cell_type": "code",
   "execution_count": 3,
   "id": "7438e9e2",
   "metadata": {},
   "outputs": [
    {
     "data": {
      "text/html": [
       "<div>\n",
       "<style scoped>\n",
       "    .dataframe tbody tr th:only-of-type {\n",
       "        vertical-align: middle;\n",
       "    }\n",
       "\n",
       "    .dataframe tbody tr th {\n",
       "        vertical-align: top;\n",
       "    }\n",
       "\n",
       "    .dataframe thead th {\n",
       "        text-align: right;\n",
       "    }\n",
       "</style>\n",
       "<table border=\"1\" class=\"dataframe\">\n",
       "  <thead>\n",
       "    <tr style=\"text-align: right;\">\n",
       "      <th></th>\n",
       "      <th>PHYSICS</th>\n",
       "      <th>BLOOD</th>\n",
       "    </tr>\n",
       "  </thead>\n",
       "  <tbody>\n",
       "    <tr>\n",
       "      <th>0</th>\n",
       "      <td>48</td>\n",
       "      <td>132</td>\n",
       "    </tr>\n",
       "    <tr>\n",
       "      <th>1</th>\n",
       "      <td>138</td>\n",
       "      <td>52</td>\n",
       "    </tr>\n",
       "    <tr>\n",
       "      <th>2</th>\n",
       "      <td>156</td>\n",
       "      <td>77</td>\n",
       "    </tr>\n",
       "    <tr>\n",
       "      <th>3</th>\n",
       "      <td>167</td>\n",
       "      <td>64</td>\n",
       "    </tr>\n",
       "    <tr>\n",
       "      <th>4</th>\n",
       "      <td>105</td>\n",
       "      <td>89</td>\n",
       "    </tr>\n",
       "    <tr>\n",
       "      <th>...</th>\n",
       "      <td>...</td>\n",
       "      <td>...</td>\n",
       "    </tr>\n",
       "    <tr>\n",
       "      <th>1430</th>\n",
       "      <td>174</td>\n",
       "      <td>52</td>\n",
       "    </tr>\n",
       "    <tr>\n",
       "      <th>1431</th>\n",
       "      <td>6</td>\n",
       "      <td>135</td>\n",
       "    </tr>\n",
       "    <tr>\n",
       "      <th>1432</th>\n",
       "      <td>131</td>\n",
       "      <td>58</td>\n",
       "    </tr>\n",
       "    <tr>\n",
       "      <th>1433</th>\n",
       "      <td>133</td>\n",
       "      <td>72</td>\n",
       "    </tr>\n",
       "    <tr>\n",
       "      <th>1434</th>\n",
       "      <td>50</td>\n",
       "      <td>106</td>\n",
       "    </tr>\n",
       "  </tbody>\n",
       "</table>\n",
       "<p>1435 rows × 2 columns</p>\n",
       "</div>"
      ],
      "text/plain": [
       "      PHYSICS  BLOOD\n",
       "0          48    132\n",
       "1         138     52\n",
       "2         156     77\n",
       "3         167     64\n",
       "4         105     89\n",
       "...       ...    ...\n",
       "1430      174     52\n",
       "1431        6    135\n",
       "1432      131     58\n",
       "1433      133     72\n",
       "1434       50    106\n",
       "\n",
       "[1435 rows x 2 columns]"
      ]
     },
     "execution_count": 3,
     "metadata": {},
     "output_type": "execute_result"
    }
   ],
   "source": [
    "df"
   ]
  },
  {
   "cell_type": "code",
   "execution_count": null,
   "id": "c044f1b0",
   "metadata": {},
   "outputs": [],
   "source": [
    "Изучим нашу выборку и сравним распределения"
   ]
  },
  {
   "cell_type": "code",
   "execution_count": 4,
   "id": "ab2c6136",
   "metadata": {},
   "outputs": [
    {
     "data": {
      "text/html": [
       "<div>\n",
       "<style scoped>\n",
       "    .dataframe tbody tr th:only-of-type {\n",
       "        vertical-align: middle;\n",
       "    }\n",
       "\n",
       "    .dataframe tbody tr th {\n",
       "        vertical-align: top;\n",
       "    }\n",
       "\n",
       "    .dataframe thead th {\n",
       "        text-align: right;\n",
       "    }\n",
       "</style>\n",
       "<table border=\"1\" class=\"dataframe\">\n",
       "  <thead>\n",
       "    <tr style=\"text-align: right;\">\n",
       "      <th></th>\n",
       "      <th>PHYSICS</th>\n",
       "      <th>BLOOD</th>\n",
       "    </tr>\n",
       "  </thead>\n",
       "  <tbody>\n",
       "    <tr>\n",
       "      <th>0</th>\n",
       "      <td>48</td>\n",
       "      <td>132</td>\n",
       "    </tr>\n",
       "    <tr>\n",
       "      <th>1</th>\n",
       "      <td>138</td>\n",
       "      <td>52</td>\n",
       "    </tr>\n",
       "    <tr>\n",
       "      <th>2</th>\n",
       "      <td>156</td>\n",
       "      <td>77</td>\n",
       "    </tr>\n",
       "    <tr>\n",
       "      <th>3</th>\n",
       "      <td>167</td>\n",
       "      <td>64</td>\n",
       "    </tr>\n",
       "    <tr>\n",
       "      <th>4</th>\n",
       "      <td>105</td>\n",
       "      <td>89</td>\n",
       "    </tr>\n",
       "  </tbody>\n",
       "</table>\n",
       "</div>"
      ],
      "text/plain": [
       "   PHYSICS  BLOOD\n",
       "0       48    132\n",
       "1      138     52\n",
       "2      156     77\n",
       "3      167     64\n",
       "4      105     89"
      ]
     },
     "execution_count": 4,
     "metadata": {},
     "output_type": "execute_result"
    }
   ],
   "source": [
    "df.head()"
   ]
  },
  {
   "cell_type": "code",
   "execution_count": 5,
   "id": "6564ae97",
   "metadata": {},
   "outputs": [
    {
     "data": {
      "text/html": [
       "<div>\n",
       "<style scoped>\n",
       "    .dataframe tbody tr th:only-of-type {\n",
       "        vertical-align: middle;\n",
       "    }\n",
       "\n",
       "    .dataframe tbody tr th {\n",
       "        vertical-align: top;\n",
       "    }\n",
       "\n",
       "    .dataframe thead th {\n",
       "        text-align: right;\n",
       "    }\n",
       "</style>\n",
       "<table border=\"1\" class=\"dataframe\">\n",
       "  <thead>\n",
       "    <tr style=\"text-align: right;\">\n",
       "      <th></th>\n",
       "      <th>PHYSICS</th>\n",
       "      <th>BLOOD</th>\n",
       "    </tr>\n",
       "  </thead>\n",
       "  <tbody>\n",
       "    <tr>\n",
       "      <th>count</th>\n",
       "      <td>1435.000000</td>\n",
       "      <td>1435.000000</td>\n",
       "    </tr>\n",
       "    <tr>\n",
       "      <th>min</th>\n",
       "      <td>3.000000</td>\n",
       "      <td>50.000000</td>\n",
       "    </tr>\n",
       "    <tr>\n",
       "      <th>max</th>\n",
       "      <td>185.000000</td>\n",
       "      <td>160.000000</td>\n",
       "    </tr>\n",
       "    <tr>\n",
       "      <th>median</th>\n",
       "      <td>97.000000</td>\n",
       "      <td>92.000000</td>\n",
       "    </tr>\n",
       "    <tr>\n",
       "      <th>mean</th>\n",
       "      <td>94.763763</td>\n",
       "      <td>93.623693</td>\n",
       "    </tr>\n",
       "    <tr>\n",
       "      <th>skew</th>\n",
       "      <td>-0.021066</td>\n",
       "      <td>0.464800</td>\n",
       "    </tr>\n",
       "  </tbody>\n",
       "</table>\n",
       "</div>"
      ],
      "text/plain": [
       "            PHYSICS        BLOOD\n",
       "count   1435.000000  1435.000000\n",
       "min        3.000000    50.000000\n",
       "max      185.000000   160.000000\n",
       "median    97.000000    92.000000\n",
       "mean      94.763763    93.623693\n",
       "skew      -0.021066     0.464800"
      ]
     },
     "execution_count": 5,
     "metadata": {},
     "output_type": "execute_result"
    }
   ],
   "source": [
    "df.agg([\"count\", \"min\", \"max\", \"median\", \"mean\", \"skew\"])"
   ]
  },
  {
   "cell_type": "code",
   "execution_count": 33,
   "id": "6c4b67ab",
   "metadata": {},
   "outputs": [
    {
     "data": {
      "image/png": "[encoded data removed]",
      "text/plain": [
       "<Figure size 720x360 with 1 Axes>"
      ]
     },
     "metadata": {
      "needs_background": "light"
     },
     "output_type": "display_data"
    }
   ],
   "source": [
    "plt.figure(figsize=(10, 5)) # размерность\n",
    "plt.title('Распределение PHYSICS ') \n",
    "plt.xlabel('x') \n",
    "plt.ylabel('y') \n",
    "plt.grid() # сетка\n",
    "#отрисовываем гистограмму\n",
    "plt.hist(df['PHYSICS'], bins=50) \n",
    "\n",
    "plt.show()"
   ]
  },
  {
   "cell_type": "code",
   "execution_count": 34,
   "id": "14fe559e",
   "metadata": {},
   "outputs": [
    {
     "data": {
      "image/png": "[encoded data removed]",
      "text/plain": [
       "<Figure size 720x360 with 1 Axes>"
      ]
     },
     "metadata": {
      "needs_background": "light"
     },
     "output_type": "display_data"
    }
   ],
   "source": [
    "plt.figure(figsize=(10, 5)) # размерность\n",
    "plt.title('Распределение BLOOD ') \n",
    "plt.xlabel('x') \n",
    "plt.ylabel('y') \n",
    "plt.grid() # сетка\n",
    "#отрисовываем гистограмму\n",
    "plt.hist(df['BLOOD'], bins=50) \n",
    "\n",
    "plt.show()"
   ]
  },
  {
   "cell_type": "code",
   "execution_count": 55,
   "id": "da51db99",
   "metadata": {},
   "outputs": [
    {
     "data": {
      "image/png": "[encoded data removed]",
      "text/plain": [
       "<Figure size 504x360 with 1 Axes>"
      ]
     },
     "metadata": {},
     "output_type": "display_data"
    }
   ],
   "source": [
    "plt.figure(figsize=(7, 5)) # размерность\n",
    "plt.title('Распределение метрик ') \n",
    "plt.xlabel('x') \n",
    "plt.ylabel('y') \n",
    "plt.grid() # сетка\n",
    "#отрисовываем гистограмму\n",
    "plt.hist(df, bins=15) \n",
    "\n",
    "plt.show()"
   ]
  },
  {
   "cell_type": "code",
   "execution_count": null,
   "id": "96f71fbe",
   "metadata": {},
   "outputs": [],
   "source": [
    "Мы видим, что распределние PHYSICS достаточно равномерное, а распределение BLOOD имеет пик в районе 100."
   ]
  },
  {
   "cell_type": "code",
   "execution_count": 58,
   "id": "318aadc9",
   "metadata": {},
   "outputs": [
    {
     "data": {
      "image/png": "[encoded data removed]",
      "text/plain": [
       "<Figure size 720x360 with 1 Axes>"
      ]
     },
     "metadata": {},
     "output_type": "display_data"
    }
   ],
   "source": [
    "plt.figure(figsize=(10, 5))\n",
    "plt.title('Распределение метрик ')\n",
    "sns.histplot(df)\n",
    "\n",
    "plt.show()"
   ]
  },
  {
   "cell_type": "code",
   "execution_count": 61,
   "id": "a554da39",
   "metadata": {},
   "outputs": [
    {
     "data": {
      "image/png": "[encoded data removed]",
      "text/plain": [
       "<Figure size 720x360 with 1 Axes>"
      ]
     },
     "metadata": {},
     "output_type": "display_data"
    }
   ],
   "source": [
    "plt.figure(figsize=(10, 5))\n",
    "plt.title('Связь метрик ')\n",
    "sns.scatterplot(x = df['BLOOD'], y = df['PHYSICS'])\n",
    "\n",
    "plt.show()"
   ]
  },
  {
   "cell_type": "code",
   "execution_count": null,
   "id": "dbd37417",
   "metadata": {},
   "outputs": [],
   "source": [
    "График показывает , что связь метрик присутствует , это видно по скоплениям точек "
   ]
  },
  {
   "cell_type": "code",
   "execution_count": 91,
   "id": "43cfb3b3",
   "metadata": {},
   "outputs": [],
   "source": [
    "def proxi_ranges (r1, r2, alpha = 0.05):\n",
    "    cov = np.cov (r1, r2)\n",
    "    print('Ковариация {:.2f}'.format(cov[0][1]))\n",
    "    print('Дисперсия для индекса 1 - {:.2f}'.format(cov[0][0]))\n",
    "    print('Дисперсия для индекса 2 - {:.2f}'.format(cov[1][1]))\n",
    "    \n",
    "    pearson_v, pearson_p = st.pearsonr(r1,r2)\n",
    "    spearman_v, spearman_p = st.spearmanr(r1,r2)\n",
    "    \n",
    "    if pearson_p < alpha:\n",
    "        if abs(pearson_v) < 0.3:\n",
    "            pearson_result = 'слабая'\n",
    "        elif abs(pearson_v) < 0.7:\n",
    "            pearson_result = 'средняя'\n",
    "        else:\n",
    "            pearson_result = 'сильная'\n",
    "        print(f'Корреляция Пирсона {pearson_result}')\n",
    "    else:\n",
    "        print('Корреляция Пирсона равна нулю')\n",
    "    \n",
    "    print(pearson_v)\n",
    "    \n",
    "    \n",
    "    if spearman_p < alpha:\n",
    "        if abs(spearman_v) < 0.3:\n",
    "            spearman_result = 'слабая'\n",
    "        elif abs(spearman_v) < 0.7:\n",
    "            spearman_result = 'средняя'\n",
    "        else:\n",
    "            spearman_result = 'сильная'\n",
    "        print(f'Корреляция Спирмана {spearman_result}')\n",
    "    else:\n",
    "        print('Корреляция Спирмана равна нулю')"
   ]
  },
  {
   "cell_type": "code",
   "execution_count": 92,
   "id": "2bcdf367",
   "metadata": {},
   "outputs": [
    {
     "name": "stdout",
     "output_type": "stream",
     "text": [
      "Ковариация -921.47\n",
      "Дисперсия для индекса 1 - 726.64\n",
      "Дисперсия для индекса 2 - 2669.46\n",
      "Корреляция Пирсона средняя\n",
      "-0.6616215720573642\n",
      "Корреляция Спирмана средняя\n"
     ]
    }
   ],
   "source": [
    "proxi_ranges(df['BLOOD'], df['PHYSICS'])"
   ]
  },
  {
   "cell_type": "code",
   "execution_count": 93,
   "id": "89a64744",
   "metadata": {},
   "outputs": [],
   "source": [
    "df_2 = pd.read_csv('Данные для дз5 Манн-Уитни.csv',  sep=';')"
   ]
  },
  {
   "cell_type": "code",
   "execution_count": 94,
   "id": "ed3941da",
   "metadata": {},
   "outputs": [
    {
     "data": {
      "text/html": [
       "<div>\n",
       "<style scoped>\n",
       "    .dataframe tbody tr th:only-of-type {\n",
       "        vertical-align: middle;\n",
       "    }\n",
       "\n",
       "    .dataframe tbody tr th {\n",
       "        vertical-align: top;\n",
       "    }\n",
       "\n",
       "    .dataframe thead th {\n",
       "        text-align: right;\n",
       "    }\n",
       "</style>\n",
       "<table border=\"1\" class=\"dataframe\">\n",
       "  <thead>\n",
       "    <tr style=\"text-align: right;\">\n",
       "      <th></th>\n",
       "      <th>BLOOD1</th>\n",
       "      <th>BLOOD2</th>\n",
       "    </tr>\n",
       "  </thead>\n",
       "  <tbody>\n",
       "    <tr>\n",
       "      <th>0</th>\n",
       "      <td>66</td>\n",
       "      <td>140.0</td>\n",
       "    </tr>\n",
       "    <tr>\n",
       "      <th>1</th>\n",
       "      <td>92</td>\n",
       "      <td>140.0</td>\n",
       "    </tr>\n",
       "    <tr>\n",
       "      <th>2</th>\n",
       "      <td>75</td>\n",
       "      <td>78.0</td>\n",
       "    </tr>\n",
       "    <tr>\n",
       "      <th>3</th>\n",
       "      <td>98</td>\n",
       "      <td>79.0</td>\n",
       "    </tr>\n",
       "    <tr>\n",
       "      <th>4</th>\n",
       "      <td>84</td>\n",
       "      <td>80.0</td>\n",
       "    </tr>\n",
       "    <tr>\n",
       "      <th>...</th>\n",
       "      <td>...</td>\n",
       "      <td>...</td>\n",
       "    </tr>\n",
       "    <tr>\n",
       "      <th>684</th>\n",
       "      <td>81</td>\n",
       "      <td>NaN</td>\n",
       "    </tr>\n",
       "    <tr>\n",
       "      <th>685</th>\n",
       "      <td>121</td>\n",
       "      <td>NaN</td>\n",
       "    </tr>\n",
       "    <tr>\n",
       "      <th>686</th>\n",
       "      <td>98</td>\n",
       "      <td>NaN</td>\n",
       "    </tr>\n",
       "    <tr>\n",
       "      <th>687</th>\n",
       "      <td>96</td>\n",
       "      <td>NaN</td>\n",
       "    </tr>\n",
       "    <tr>\n",
       "      <th>688</th>\n",
       "      <td>118</td>\n",
       "      <td>NaN</td>\n",
       "    </tr>\n",
       "  </tbody>\n",
       "</table>\n",
       "<p>689 rows × 2 columns</p>\n",
       "</div>"
      ],
      "text/plain": [
       "     BLOOD1  BLOOD2\n",
       "0        66   140.0\n",
       "1        92   140.0\n",
       "2        75    78.0\n",
       "3        98    79.0\n",
       "4        84    80.0\n",
       "..      ...     ...\n",
       "684      81     NaN\n",
       "685     121     NaN\n",
       "686      98     NaN\n",
       "687      96     NaN\n",
       "688     118     NaN\n",
       "\n",
       "[689 rows x 2 columns]"
      ]
     },
     "execution_count": 94,
     "metadata": {},
     "output_type": "execute_result"
    }
   ],
   "source": [
    "df_2"
   ]
  },
  {
   "cell_type": "code",
   "execution_count": 98,
   "id": "f11a1f46",
   "metadata": {},
   "outputs": [
    {
     "name": "stdout",
     "output_type": "stream",
     "text": [
      "<class 'pandas.core.frame.DataFrame'>\n",
      "Int64Index: 605 entries, 0 to 604\n",
      "Data columns (total 2 columns):\n",
      " #   Column  Non-Null Count  Dtype  \n",
      "---  ------  --------------  -----  \n",
      " 0   BLOOD1  605 non-null    int64  \n",
      " 1   BLOOD2  605 non-null    float64\n",
      "dtypes: float64(1), int64(1)\n",
      "memory usage: 14.2 KB\n"
     ]
    }
   ],
   "source": [
    "df_2.info() "
   ]
  },
  {
   "cell_type": "code",
   "execution_count": 97,
   "id": "c3570a6f",
   "metadata": {},
   "outputs": [],
   "source": [
    "df_2 = df_2.dropna() # избавились от пустых значений"
   ]
  },
  {
   "cell_type": "code",
   "execution_count": 99,
   "id": "7b5af157",
   "metadata": {},
   "outputs": [
    {
     "data": {
      "image/png": "[encoded data removed]",
      "text/plain": [
       "<Figure size 720x360 with 1 Axes>"
      ]
     },
     "metadata": {},
     "output_type": "display_data"
    }
   ],
   "source": [
    "plt.figure(figsize=(10, 5))\n",
    "plt.title('Распределение метрик 2 ')\n",
    "sns.histplot(df_2)\n",
    "\n",
    "plt.show()"
   ]
  },
  {
   "cell_type": "code",
   "execution_count": 101,
   "id": "1eb409bd",
   "metadata": {},
   "outputs": [],
   "source": [
    "def mann_whitney_func(r1, r2, alpha = 0.05):\n",
    "    s, p_value = st.mannwhitneyu(r1, r2)\n",
    "    \n",
    "    if p_value < alpha:\n",
    "        print('Распределения НЕ равны')\n",
    "    else:\n",
    "        print('Распределения  равны')\n",
    "        \n",
    "    return s, p_value\n",
    "        "
   ]
  },
  {
   "cell_type": "code",
   "execution_count": 102,
   "id": "bba37bb1",
   "metadata": {},
   "outputs": [
    {
     "name": "stdout",
     "output_type": "stream",
     "text": [
      "Распределения  равны\n"
     ]
    },
    {
     "data": {
      "text/plain": [
       "(178857.0, 0.49411579709672515)"
      ]
     },
     "execution_count": 102,
     "metadata": {},
     "output_type": "execute_result"
    }
   ],
   "source": [
    "mann_whitney_func(df_2['BLOOD1'], df_2['BLOOD2'] )"
   ]
  },
  {
   "cell_type": "code",
   "execution_count": 103,
   "id": "f0bdbb62",
   "metadata": {},
   "outputs": [],
   "source": [
    "def ttest_func(r1, r2, alpha = 0.05):\n",
    "    s, p_value = st.ttest_ind(r1, r2)\n",
    "    \n",
    "    if p_value < alpha:\n",
    "        print('Распределения НЕ равны')\n",
    "    else:\n",
    "        print('Распределения  равны')\n",
    "        \n",
    "    return s, p_value"
   ]
  },
  {
   "cell_type": "code",
   "execution_count": 104,
   "id": "7c5d5752",
   "metadata": {},
   "outputs": [
    {
     "name": "stdout",
     "output_type": "stream",
     "text": [
      "Распределения  равны\n"
     ]
    },
    {
     "data": {
      "text/plain": [
       "(-0.6398988386814893, 0.5223597081606046)"
      ]
     },
     "execution_count": 104,
     "metadata": {},
     "output_type": "execute_result"
    }
   ],
   "source": [
    "ttest_func(df_2['BLOOD1'], df_2['BLOOD2'] )"
   ]
  },
  {
   "cell_type": "code",
   "execution_count": null,
   "id": "ef40b05d",
   "metadata": {},
   "outputs": [],
   "source": [
    "По результатат тестов наши распределения равны. Тесты проводились на очищенных данных , без нулевых значений."
   ]
  }
 ],
 "metadata": {
  "kernelspec": {
   "display_name": "Python 3 (ipykernel)",
   "language": "python",
   "name": "python3"
  },
  "language_info": {
   "codemirror_mode": {
    "name": "ipython",
    "version": 3
   },
   "file_extension": ".py",
   "mimetype": "text/x-python",
   "name": "python",
   "nbconvert_exporter": "python",
   "pygments_lexer": "ipython3",
   "version": "3.9.12"
  }
 },
 "nbformat": 4,
 "nbformat_minor": 5
}
